{
 "cells": [
  {
   "cell_type": "code",
   "execution_count": 1,
   "id": "d37edbf5-1b00-4694-9937-cd639d2d484c",
   "metadata": {},
   "outputs": [
    {
     "name": "stderr",
     "output_type": "stream",
     "text": [
      "WARNING:absl:Compiled the loaded model, but the compiled metrics have yet to be built. `model.compile_metrics` will be empty until you train or evaluate the model.\n"
     ]
    }
   ],
   "source": [
    "from tensorflow.keras.models import load_model\n",
    "\n",
    "# Load the model back\n",
    "model = load_model(\"spam_lstm_model.h5\")"
   ]
  },
  {
   "cell_type": "code",
   "execution_count": 3,
   "id": "3950b44a-bce1-4d4a-83fd-61a6b4c3cdf5",
   "metadata": {},
   "outputs": [],
   "source": [
    "import pickle\n",
    "with open(\"tokenizer_spam.pkl\", \"rb\") as f:\n",
    "    tokenizer = pickle.load(f)"
   ]
  },
  {
   "cell_type": "code",
   "execution_count": 4,
   "id": "9762ccac-07f9-42fa-a21d-0d062b1496c0",
   "metadata": {},
   "outputs": [],
   "source": [
    "import re\n",
    "from tensorflow.keras.preprocessing.sequence import pad_sequences\n",
    "\n",
    "# Text cleaning function\n",
    "def clean_text(text):\n",
    "    text = text.lower()\n",
    "    text = re.sub(r'\\d+', '', text)\n",
    "    text = re.sub(r'[^\\w\\s]', '', text)\n",
    "    text = re.sub(r'\\s+', ' ', text).strip()\n",
    "    return text\n",
    "\n",
    "# Max length used during training\n",
    "max_len = 100\n"
   ]
  },
  {
   "cell_type": "code",
   "execution_count": 6,
   "id": "a29255a7-f33b-4770-b67b-857829250c7c",
   "metadata": {},
   "outputs": [
    {
     "name": "stdout",
     "output_type": "stream",
     "text": [
      "\u001b[1m1/1\u001b[0m \u001b[32m━━━━━━━━━━━━━━━━━━━━\u001b[0m\u001b[37m\u001b[0m \u001b[1m0s\u001b[0m 103ms/step\n",
      "Message: Go until jurong point, crazy.. Available only in bugis n great world la e buffet... Cine there got amore wat...\n",
      "Predicted: Ham (Confidence: 0.0)\n"
     ]
    }
   ],
   "source": [
    "def predict_message(msg):\n",
    "    cleaned = clean_text(msg)\n",
    "    seq = tokenizer.texts_to_sequences([cleaned])\n",
    "    padded = pad_sequences(seq, maxlen=max_len, padding='post')\n",
    "    prob = model.predict(padded)[0][0]\n",
    "    label = \"Spam\" if prob > 0.5 else \"Ham\" #tested with .3 , .2 .5 works better\n",
    "    return label, round(prob, 3)\n",
    "\n",
    "message = \"Go until jurong point, crazy.. Available only in bugis n great world la e buffet... Cine there got amore wat...\"\n",
    "label, confidence = predict_message(message)\n",
    "print(f\"Message: {message}\\nPredicted: {label} (Confidence: {confidence})\")\n"
   ]
  },
  {
   "cell_type": "code",
   "execution_count": null,
   "id": "3945f3a5-73bb-4491-a181-5977a7f2fccd",
   "metadata": {},
   "outputs": [],
   "source": []
  }
 ],
 "metadata": {
  "kernelspec": {
   "display_name": "Python 3 (ipykernel)",
   "language": "python",
   "name": "python3"
  },
  "language_info": {
   "codemirror_mode": {
    "name": "ipython",
    "version": 3
   },
   "file_extension": ".py",
   "mimetype": "text/x-python",
   "name": "python",
   "nbconvert_exporter": "python",
   "pygments_lexer": "ipython3",
   "version": "3.11.7"
  }
 },
 "nbformat": 4,
 "nbformat_minor": 5
}
